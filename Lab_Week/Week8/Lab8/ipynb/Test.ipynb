{
 "cells": [
  {
   "cell_type": "markdown",
   "id": "4dd1c496-0c14-400a-a097-125065add189",
   "metadata": {},
   "source": [
    "# 660710075 ชลธี เกิดก่อวงศ์"
   ]
  },
  {
   "cell_type": "code",
   "execution_count": 63,
   "id": "5f38fadc-bf6c-403e-9c3c-d361823a96aa",
   "metadata": {},
   "outputs": [],
   "source": [
    "import pandas as pd\n",
    "import numpy as np"
   ]
  },
  {
   "cell_type": "code",
   "execution_count": 64,
   "id": "95cf2ccb-c5a6-411d-aa23-83a5fe9492a0",
   "metadata": {},
   "outputs": [
    {
     "name": "stdout",
     "output_type": "stream",
     "text": [
      "     outlook temperature humidity   windy play\n",
      "0      sunny         hot     high    weak   no\n",
      "1      sunny         hot     high  strong   no\n",
      "2   overcast         hot     high    weak  yes\n",
      "3      rainy        mild     high    weak  yes\n",
      "4      rainy        cool   normal    weak  yes\n",
      "5      rainy        cool   normal  strong   no\n",
      "6   overcast        cool   normal  strong  yes\n",
      "7      sunny        mild     high    weak   no\n",
      "8      sunny        cool   normal    weak  yes\n",
      "9      rainy        mild   normal    weak  yes\n",
      "10     sunny        mild   normal  strong  yes\n",
      "11  overcast        mild     high  strong  yes\n",
      "12  overcast         hot   normal    weak  yes\n",
      "13     rainy        mild     high  strong   no\n"
     ]
    }
   ],
   "source": [
    "play_tennis  = pd.read_csv(\"E:/Unitversity/DataAnaliz/Lab_Week/Week8/play_tennis/play_tennis.csv\")\n",
    "print(play_tennis)"
   ]
  },
  {
   "cell_type": "code",
   "execution_count": 65,
   "id": "43a6b5fc-cc89-4a82-8e9b-e04981884a2e",
   "metadata": {},
   "outputs": [
    {
     "name": "stdout",
     "output_type": "stream",
     "text": [
      "    outlook  temperature  humidity  windy play\n",
      "0         2            1         0      1   no\n",
      "1         2            1         0      0   no\n",
      "2         0            1         0      1  yes\n",
      "3         1            2         0      1  yes\n",
      "4         1            0         1      1  yes\n",
      "5         1            0         1      0   no\n",
      "6         0            0         1      0  yes\n",
      "7         2            2         0      1   no\n",
      "8         2            0         1      1  yes\n",
      "9         1            2         1      1  yes\n",
      "10        2            2         1      0  yes\n",
      "11        0            2         0      0  yes\n",
      "12        0            1         1      1  yes\n",
      "13        1            2         0      0   no\n"
     ]
    }
   ],
   "source": [
    "from sklearn import preprocessing\n",
    "number = preprocessing.LabelEncoder()\n",
    "\n",
    "play_tennis['outlook'] = number.fit_transform(play_tennis['outlook'])\n",
    "play_tennis['temperature'] = number.fit_transform(play_tennis['temperature'])\n",
    "play_tennis['humidity'] = number.fit_transform(play_tennis['humidity'])\n",
    "play_tennis['windy'] = number.fit_transform(play_tennis['windy'])\n",
    "\n",
    "print(play_tennis)"
   ]
  },
  {
   "cell_type": "code",
   "execution_count": null,
   "id": "a48dedc5-9e9f-41b3-9221-64eddbf012eb",
   "metadata": {},
   "outputs": [],
   "source": []
  },
  {
   "cell_type": "code",
   "execution_count": 66,
   "id": "c258ff6a-de28-42b2-917e-397160b9ab85",
   "metadata": {},
   "outputs": [],
   "source": [
    "from sklearn.model_selection import train_test_split\n",
    "\n",
    "X = play_tennis[['outlook','temperature', 'humidity','windy']]\n",
    "Y = play_tennis['play']\n",
    "X_train1, X_test1, y_train1, y_test1 = train_test_split(X,Y,test_size=0.2,random_state=5)\n",
    "# X_train2, X_test2, y_train2, y_test2 = train_test_split(X,Y,test_size=0.4,random_state=5)"
   ]
  },
  {
   "cell_type": "code",
   "execution_count": 67,
   "id": "efdf6a82-848a-4e8d-b796-91f2c0f16584",
   "metadata": {},
   "outputs": [
    {
     "name": "stdout",
     "output_type": "stream",
     "text": [
      "Bernoulli Traing Score1 0.9090909090909091\n",
      "Bernoulli Test Score1 0.3333333333333333\n",
      "Multinomial_NB Traing Score1 0.8181818181818182\n",
      "Multinomial_NB Test Score1 0.0\n"
     ]
    }
   ],
   "source": [
    "#test1\n",
    "Gaussian_NB.fit(X_train1,y_train1)\n",
    "Bernoulli_NB.fit(X_train1,y_train1)\n",
    "Multinomial_NB.fit(X_train1,y_train1)\n",
    "Categorical_NB.fit(X_train1,y_train1)\n",
    "\n",
    "Y_Predict_GNB1 = Gaussian_NB.predict(X_test1)\n",
    "Y_Predict_BNB1 = Bernoulli_NB.predict(X_test1)\n",
    "Y_Predict_MNB1 = Multinomial_NB.predict(X_test1)\n",
    "Y_Predict_CNB1 = Categorical_NB.predict(X_test1)\n",
    "\n",
    "print(\"Bernoulli Traing Score1\", Bernoulli_NB.score(X_train1,y_train1))\n",
    "print(\"Bernoulli Test Score1\", Bernoulli_NB.score(X_test1,y_test1))\n",
    "\n",
    "print(\"Multinomial_NB Traing Score1\", Multinomial_NB.score(X_train1,y_train1))\n",
    "print(\"Multinomial_NB Test Score1\", Multinomial_NB.score(X_test1,y_test1))"
   ]
  },
  {
   "cell_type": "code",
   "execution_count": 68,
   "id": "95a3e22c-784d-49b4-af67-935fd6ec9d15",
   "metadata": {},
   "outputs": [],
   "source": [
    "#test2\n",
    "# Gaussian_NB2.fit(X_train2,y_train2)\n",
    "# Bernoulli_NB2.fit(X_train2,y_train2)\n",
    "# Multinomial_NB2.fit(X_train2,y_train2)\n",
    "# Categorical_NB2.fit(X_train2,y_train2)\n",
    "\n",
    "# Y_Predict_GNB2 = Gaussian_NB2.predict(X_test2)\n",
    "# Y_Predict_BNB2 = Bernoulli_NB2.predict(X_test2)\n",
    "# Y_Predict_MNB2 = Multinomial_NB2.predict(X_test2)\n",
    "# Y_Predict_CNB2 = Categorical_NB2.predict(X_test2)\n",
    "\n",
    "# print(\"Bernoulli Traing Score2\", Bernoulli_NB2.score(X_train2,y_train2))\n",
    "# print(\"Bernoulli Test Score2\", Bernoulli_NB2.score(X_test2,y_test2))\n",
    "\n",
    "# print(\"Multinomial_NB Traing Score2\", Multinomial_NB2.score(X_train2,y_train2))\n",
    "# print(\"Multinomial_NB Test Score2\", Multinomial_NB2.score(X_test2,y_test2))"
   ]
  },
  {
   "cell_type": "code",
   "execution_count": 69,
   "id": "25abd5e1-cfb6-4ed5-bc74-f10a194e163c",
   "metadata": {},
   "outputs": [
    {
     "name": "stdout",
     "output_type": "stream",
     "text": [
      "Gaussian Accuracy1: 0.6666666666666666\n",
      "Bernoulli Accuracy1: 0.3333333333333333\n",
      "Multinomial Accuracy1: 0.0\n",
      "Categorical Accuracy1: 0.3333333333333333\n"
     ]
    }
   ],
   "source": [
    "#test1\n",
    "from sklearn import metrics\n",
    "print(\"Gaussian Accuracy1:\",metrics.accuracy_score(y_test1, Y_Predict_GNB1))\n",
    "print(\"Bernoulli Accuracy1:\",metrics.accuracy_score(y_test1, Y_Predict_BNB1))\n",
    "print(\"Multinomial Accuracy1:\",metrics.accuracy_score(y_test1, Y_Predict_MNB1))\n",
    "print(\"Categorical Accuracy1:\",metrics.accuracy_score(y_test1,Y_Predict_CNB1))"
   ]
  },
  {
   "cell_type": "code",
   "execution_count": 70,
   "id": "d3adf406-b207-4776-a54c-350ae1cc7804",
   "metadata": {},
   "outputs": [],
   "source": [
    "#test2\n",
    "# from sklearn import metrics\n",
    "# print(\"Gaussian Accuracy2:\",metrics.accuracy_score(y_test2, Y_Predict_GNB2))\n",
    "# print(\"Bernoulli Accuracy2:\",metrics.accuracy_score(y_test2, Y_Predict_BNB2))\n",
    "# print(\"Multinomial Accuracy2:\",metrics.accuracy_score(y_test2, Y_Predict_MNB2))\n",
    "# print(\"Categorical Accuracy2:\",metrics.accuracy_score(y_test2,Y_Predict_CNB2))"
   ]
  },
  {
   "cell_type": "code",
   "execution_count": 71,
   "id": "8dd68387-d988-430c-8079-0f6df1e594a4",
   "metadata": {},
   "outputs": [
    {
     "name": "stdout",
     "output_type": "stream",
     "text": [
      "KNN Accuracy: 0.3333333333333333\n"
     ]
    }
   ],
   "source": [
    "#test1\n",
    "from sklearn.neighbors import KNeighborsClassifier\n",
    "KNN_model = KNeighborsClassifier(n_neighbors=3)\n",
    "KNN_model.fit(X_train1,y_train1)\n",
    "\n",
    "Y_Predict_KNN = KNN_model.predict(X_test1)\n",
    "print(\"KNN Accuracy:\",metrics.accuracy_score(y_test1, Y_Predict_KNN1))"
   ]
  },
  {
   "cell_type": "code",
   "execution_count": 72,
   "id": "4353e353-b72e-472c-9ba6-1ea4740c557e",
   "metadata": {},
   "outputs": [],
   "source": [
    "#test2\n",
    "# from sklearn.neighbors import KNeighborsClassifier\n",
    "# KNN_model2 = KNeighborsClassifier(n_neighbors=3)\n",
    "# KNN_model2.fit(X_train2,y_train2)\n",
    "\n",
    "# Y_Predict_KNN2 = KNN_model2.predict(X_test2)\n",
    "# print(\"KNN Accuracy2:\",metrics.accuracy_score(y_test2, Y_Predict_KNN2))"
   ]
  },
  {
   "cell_type": "code",
   "execution_count": 73,
   "id": "617e1771-2a6d-4c21-ac6e-a189493f43be",
   "metadata": {},
   "outputs": [
    {
     "name": "stdout",
     "output_type": "stream",
     "text": [
      "Predicted Value: ['no' 'yes' 'yes' 'no' 'yes']\n"
     ]
    },
    {
     "name": "stderr",
     "output_type": "stream",
     "text": [
      "C:\\Users\\Guest-Student\\anaconda3\\Lib\\site-packages\\sklearn\\base.py:493: UserWarning: X does not have valid feature names, but GaussianNB was fitted with feature names\n",
      "  warnings.warn(\n"
     ]
    }
   ],
   "source": [
    "predicted= Gaussian_NB.predict([[2,1,0,0],[0,1,1,1] ,[1,0,1,0] ,[2,2,0,0], [1,2,1,1]]) # 1:rain, 1:hot, 0:high, 1:weak\n",
    "print(\"Predicted Value:\", predicted)"
   ]
  },
  {
   "cell_type": "code",
   "execution_count": null,
   "id": "759e2683-6da2-4b55-b21b-009507f6eb61",
   "metadata": {},
   "outputs": [],
   "source": []
  }
 ],
 "metadata": {
  "kernelspec": {
   "display_name": "Python 3 (ipykernel)",
   "language": "python",
   "name": "python3"
  },
  "language_info": {
   "codemirror_mode": {
    "name": "ipython",
    "version": 3
   },
   "file_extension": ".py",
   "mimetype": "text/x-python",
   "name": "python",
   "nbconvert_exporter": "python",
   "pygments_lexer": "ipython3",
   "version": "3.11.7"
  }
 },
 "nbformat": 4,
 "nbformat_minor": 5
}
