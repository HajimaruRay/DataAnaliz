{
 "cells": [
  {
   "cell_type": "markdown",
   "id": "b8e69c42-7f54-4f97-9bd1-37d09bff3663",
   "metadata": {},
   "source": [
    "# This is a Test"
   ]
  },
  {
   "cell_type": "markdown",
   "id": "3f1219fc-2afd-427b-980e-6decdb388c0a",
   "metadata": {},
   "source": [
    "print function example"
   ]
  },
  {
   "cell_type": "code",
   "execution_count": null,
   "id": "80443783-6428-4d4a-8146-f4f2e6997481",
   "metadata": {},
   "outputs": [],
   "source": [
    "#Print Function \n",
    "#function(parameter) \n",
    "print(\"Hello there\")"
   ]
  },
  {
   "cell_type": "code",
   "execution_count": null,
   "id": "960a0a9c-a6a7-44b4-8d1c-9a346e836ee0",
   "metadata": {},
   "outputs": [],
   "source": []
  },
  {
   "cell_type": "code",
   "execution_count": null,
   "id": "7087f67f-4c42-4c5b-9c59-ad22547dc157",
   "metadata": {},
   "outputs": [],
   "source": [
    "#Case sensitive\n",
    "print(\"Hello there\")"
   ]
  },
  {
   "cell_type": "code",
   "execution_count": 7,
   "id": "30a725c8-1ef8-4851-8bdc-3f729a983880",
   "metadata": {},
   "outputs": [
    {
     "name": "stdout",
     "output_type": "stream",
     "text": [
      "It was a dark and stormy night.\n",
      "Suddenly a shot rang out!\n"
     ]
    }
   ],
   "source": [
    "#Print multifle lines\n",
    "print(\"It was a dark and stormy night.\")\n",
    "print(\"Suddenly a shot rang out!\")"
   ]
  },
  {
   "cell_type": "code",
   "execution_count": 9,
   "id": "308b7277-ff5a-482e-a548-a56af84344d2",
   "metadata": {},
   "outputs": [
    {
     "name": "stdout",
     "output_type": "stream",
     "text": [
      "I want to print a double quote \" for some reason.\n",
      "The file is stored in C:\n",
      "ew foder\n"
     ]
    }
   ],
   "source": [
    "#Print Escape codes\n",
    "print(\"I want to print a double quote \" for some reason.\")\n",
    "print(\"The file is stored in C:\\new foder\")"
   ]
  },
  {
   "cell_type": "code",
   "execution_count": 10,
   "id": "1a1f36d2-bfc3-43ae-be39-10154fc82b42",
   "metadata": {},
   "outputs": [
    {
     "name": "stdout",
     "output_type": "stream",
     "text": [
      "I want to print a double quote \" for some reason.\n",
      "The file is stored in C:\\new foder\n"
     ]
    }
   ],
   "source": [
    "# Escape codes (\\+..)\n",
    "print(\"I want to print a double quote \\\" for some reason.\")\n",
    "print(\"The file is stored in C:\\\\new foder\")"
   ]
  },
  {
   "cell_type": "markdown",
   "id": "90c8744b-a7d7-4234-85d7-0aef835b1431",
   "metadata": {},
   "source": [
    "' Single Quote \" Double Quote \\t tab \\r CR:Carriage Return (move to the left) \\n LF: Linefeed (move down)"
   ]
  },
  {
   "cell_type": "code",
   "execution_count": 11,
   "id": "3ab3862c-1b6e-40b4-9e7f-5d625c29cc01",
   "metadata": {},
   "outputs": [
    {
     "name": "stdout",
     "output_type": "stream",
     "text": [
      "This\n",
      "is\n",
      "my\n",
      "sample\n"
     ]
    }
   ],
   "source": [
    "print(\"This\\nis\\nmy\\nsample\")"
   ]
  },
  {
   "cell_type": "code",
   "execution_count": 14,
   "id": "b0586772-4ea5-44b5-9796-c3f186d53da9",
   "metadata": {},
   "outputs": [
    {
     "name": "stdout",
     "output_type": "stream",
     "text": [
      "2 + 3\n",
      "5\n",
      "Hello World\n"
     ]
    }
   ],
   "source": [
    "print(\"2 + 3\")\n",
    "print(2 + 3)\n",
    "print(\"Hello World\")"
   ]
  },
  {
   "cell_type": "code",
   "execution_count": 15,
   "id": "0e495d3a-ac19-4292-818d-0bddd3b5c5d4",
   "metadata": {},
   "outputs": [
    {
     "name": "stdout",
     "output_type": "stream",
     "text": [
      "You can print a statement surroundeed by double quotes.\n",
      "You can print a statement surrounded by single quote.\n",
      "If you want to print a double quote, you can by prepeneding it with\n",
      "a slash. \"That's great!\" he said.\n",
      "If you want to print a blacklash, you can by prepending it with\n",
      "a slash .so this \\ print one backslash, and this \\\\ does two.\n",
      "You can print a blank line with a empty print statement.\n",
      "\n",
      "You can use a backlash n tio  printa new line. These\n",
      "are\n",
      "on\n",
      "nbew\n",
      "lines.\n",
      "You can print on multiple lines\n",
      "using triple quotes.\n",
      "Just in case\n",
      "you wanted to.\n"
     ]
    }
   ],
   "source": [
    "print(\"You can print a statement surroundeed by double quotes.\")\n",
    "print('You can print a statement surrounded by single quote.')\n",
    "print(\"If you want to print a double quote, you can by prepeneding it with\")\n",
    "print(\"a slash. \\\"That's great!\\\" he said.\")\n",
    "print(\"If you want to print a blacklash, you can by prepending it with\")\n",
    "print(\"a slash .so this \\\\ print one backslash, and this \\\\\\ does two.\")\n",
    "print(\"You can print a blank line with a empty print statement.\")\n",
    "print()\n",
    "print(\"You can use a backlash n tio  printa new line. These\\nare\\non\\nnbew\\nlines.\")\n",
    "print(\"\"\"You can print on multiple lines\n",
    "using triple quotes.\n",
    "Just in case\n",
    "you wanted to.\"\"\")"
   ]
  },
  {
   "cell_type": "code",
   "execution_count": 22,
   "id": "0740ce46-5c28-4490-91c9-4ab0ba94d769",
   "metadata": {},
   "outputs": [
    {
     "name": "stdout",
     "output_type": "stream",
     "text": [
      "Enter your weight in kilogram : 70\n",
      "Enter your height in centimeter : 170\n"
     ]
    },
    {
     "name": "stdout",
     "output_type": "stream",
     "text": [
      "your bmi : 24.221453287197235\n"
     ]
    }
   ],
   "source": [
    "kg = float(input(\"Enter your weight in kilogram :\"))\n",
    "cm = float(input(\"Enter your height in centimeter :\"))\n",
    "kg = float(kg)\n",
    "m = float(cm/100)\n",
    "bmi = kg / m **2\n",
    "print(\"your bmi :\", bmi)"
   ]
  },
  {
   "cell_type": "code",
   "execution_count": 25,
   "id": "a2606262-029d-4583-82e7-9d3336f35ae1",
   "metadata": {},
   "outputs": [
    {
     "name": "stdout",
     "output_type": "stream",
     "text": [
      "x = 1.0\n"
     ]
    }
   ],
   "source": [
    "#import library\n",
    "#Import the math library\n",
    "#This line done only once, and at the very top\n",
    "#of the program\n",
    "import math as m\n",
    "\n",
    "#Calculate x using sine and cosine\n",
    "x = m.sin(0) + m.cos(0)\n",
    "print(\"x =\", x)"
   ]
  },
  {
   "cell_type": "code",
   "execution_count": 29,
   "id": "e90f33b6-8b72-460b-87a1-a9eb873ee709",
   "metadata": {},
   "outputs": [
    {
     "name": "stdout",
     "output_type": "stream",
     "text": [
      "Enter first degree of triangle : 3\n",
      "Enter secend degree of triangle : 4\n"
     ]
    },
    {
     "name": "stdout",
     "output_type": "stream",
     "text": [
      "The third degree of triangle is : 5.0\n"
     ]
    }
   ],
   "source": [
    "import math as m\n",
    "\n",
    "a = float(input(\"Enter first degree of triangle :\"))\n",
    "b = float(input(\"Enter secend degree of triangle :\"))\n",
    "\n",
    "c = float((a**2) + (b**2))\n",
    "print(\"The third degree of triangle is :\", m.sqrt(c))"
   ]
  },
  {
   "cell_type": "code",
   "execution_count": 2,
   "id": "137dfbf2-e145-4af9-acb0-d676b301a4a9",
   "metadata": {},
   "outputs": [
    {
     "ename": "ModuleNotFoundError",
     "evalue": "No module named 'numpy'",
     "output_type": "error",
     "traceback": [
      "\u001b[1;31m---------------------------------------------------------------------------\u001b[0m",
      "\u001b[1;31mModuleNotFoundError\u001b[0m                       Traceback (most recent call last)",
      "Cell \u001b[1;32mIn[2], line 2\u001b[0m\n\u001b[0;32m      1\u001b[0m \u001b[38;5;28;01mimport\u001b[39;00m \u001b[38;5;21;01mmath\u001b[39;00m \u001b[38;5;28;01mas\u001b[39;00m \u001b[38;5;21;01mm\u001b[39;00m\n\u001b[1;32m----> 2\u001b[0m \u001b[38;5;28;01mimport\u001b[39;00m \u001b[38;5;21;01mnumpy\u001b[39;00m \u001b[38;5;28;01mas\u001b[39;00m \u001b[38;5;21;01mnp\u001b[39;00m\n\u001b[0;32m      3\u001b[0m \u001b[38;5;28;01mimport\u001b[39;00m \u001b[38;5;21;01mstatistics\u001b[39;00m \u001b[38;5;28;01mas\u001b[39;00m \u001b[38;5;21;01mst\u001b[39;00m\n",
      "\u001b[1;31mModuleNotFoundError\u001b[0m: No module named 'numpy'"
     ]
    }
   ],
   "source": [
    "import math as m\n",
    "import numpy as np\n",
    "import statistics as st"
   ]
  },
  {
   "cell_type": "code",
   "execution_count": 3,
   "id": "6786ba68-a4a7-4074-b795-ddb6d684d76f",
   "metadata": {},
   "outputs": [
    {
     "ename": "NameError",
     "evalue": "name 'np' is not defined",
     "output_type": "error",
     "traceback": [
      "\u001b[1;31m---------------------------------------------------------------------------\u001b[0m",
      "\u001b[1;31mNameError\u001b[0m                                 Traceback (most recent call last)",
      "Cell \u001b[1;32mIn[3], line 2\u001b[0m\n\u001b[0;32m      1\u001b[0m N \u001b[38;5;241m=\u001b[39m [\u001b[38;5;241m1\u001b[39m,\u001b[38;5;241m2\u001b[39m,\u001b[38;5;241m3\u001b[39m,\u001b[38;5;241m4\u001b[39m,\u001b[38;5;241m5\u001b[39m,\u001b[38;5;241m5\u001b[39m,\u001b[38;5;241m6\u001b[39m,\u001b[38;5;241m2\u001b[39m,\u001b[38;5;241m6\u001b[39m]\n\u001b[1;32m----> 2\u001b[0m \u001b[38;5;28mprint\u001b[39m(\u001b[38;5;124m\"\u001b[39m\u001b[38;5;124mMean: \u001b[39m\u001b[38;5;124m\"\u001b[39m, \u001b[43mnp\u001b[49m\u001b[38;5;241m.\u001b[39mmean(N))\n\u001b[0;32m      3\u001b[0m \u001b[38;5;28mprint\u001b[39m(\u001b[38;5;124m\"\u001b[39m\u001b[38;5;124mMedian: \u001b[39m\u001b[38;5;124m\"\u001b[39m, np\u001b[38;5;241m.\u001b[39mmedian(N))\n\u001b[0;32m      4\u001b[0m \u001b[38;5;28mprint\u001b[39m(\u001b[38;5;124m\"\u001b[39m\u001b[38;5;124mMode: \u001b[39m\u001b[38;5;124m\"\u001b[39m, st\u001b[38;5;241m.\u001b[39mmode(N))\n",
      "\u001b[1;31mNameError\u001b[0m: name 'np' is not defined"
     ]
    }
   ],
   "source": [
    "N = [1,2,3,4,5,5,6,2,6]\n",
    "print(\"Mean: \", np.mean(N))\n",
    "print(\"Median: \", np.median(N))\n",
    "print(\"Mode: \", st.mode(N))\n",
    "print(\"Min: \", np.min(N))\n",
    "print(\"Max: \", np.max(N))"
   ]
  },
  {
   "cell_type": "markdown",
   "id": "9cdde381",
   "metadata": {},
   "source": []
  }
 ],
 "metadata": {
  "kernelspec": {
   "display_name": "Python 3 (ipykernel)",
   "language": "python",
   "name": "python3"
  },
  "language_info": {
   "codemirror_mode": {
    "name": "ipython",
    "version": 3
   },
   "file_extension": ".py",
   "mimetype": "text/x-python",
   "name": "python",
   "nbconvert_exporter": "python",
   "pygments_lexer": "ipython3",
   "version": "3.10.11"
  }
 },
 "nbformat": 4,
 "nbformat_minor": 5
}
