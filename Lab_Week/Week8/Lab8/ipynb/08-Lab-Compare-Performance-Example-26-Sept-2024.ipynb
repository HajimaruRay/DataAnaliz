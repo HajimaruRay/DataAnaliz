{
 "cells": [
  {
   "cell_type": "code",
   "execution_count": 1,
   "id": "d7c2edcb-2b6f-4565-aa43-27b588ab552e",
   "metadata": {},
   "outputs": [],
   "source": [
    "import pandas as pd\n",
    "import numpy as np"
   ]
  },
  {
   "cell_type": "code",
   "execution_count": 5,
   "id": "166d69af-8903-4cc9-99ec-8f3d6c8c3c0b",
   "metadata": {},
   "outputs": [
    {
     "name": "stdout",
     "output_type": "stream",
     "text": [
      "     outlook temperature humidity   windy play\n",
      "0      sunny         hot     high    weak   no\n",
      "1      sunny         hot     high  strong   no\n",
      "2   overcast         hot     high    weak  yes\n",
      "3      rainy        mild     high    weak  yes\n",
      "4      rainy        cool   normal    weak  yes\n",
      "5      rainy        cool   normal  strong   no\n",
      "6   overcast        cool   normal  strong  yes\n",
      "7      sunny        mild     high    weak   no\n",
      "8      sunny        cool   normal    weak  yes\n",
      "9      rainy        mild   normal    weak  yes\n",
      "10     sunny        mild   normal  strong  yes\n",
      "11  overcast        mild     high  strong  yes\n",
      "12  overcast         hot   normal    weak  yes\n",
      "13     rainy        mild     high  strong   no\n"
     ]
    }
   ],
   "source": [
    "# สร้าง dataframe ชื่อ data ว่างๆ ขึ้นมาก่อน\n",
    "play_tennis  = pd.read_csv(\"E:/Unitversity/DataAnaliz/Lab_Week/Week8/play_tennis/play_tennis.csv\")\n",
    "print(play_tennis)"
   ]
  },
  {
   "cell_type": "code",
   "execution_count": 6,
   "id": "48ca8906-c01e-451a-a0a9-8842ac1456b4",
   "metadata": {},
   "outputs": [
    {
     "name": "stdout",
     "output_type": "stream",
     "text": [
      "    outlook  temperature  humidity  windy play\n",
      "0         2            1         0      1   no\n",
      "1         2            1         0      0   no\n",
      "2         0            1         0      1  yes\n",
      "3         1            2         0      1  yes\n",
      "4         1            0         1      1  yes\n",
      "5         1            0         1      0   no\n",
      "6         0            0         1      0  yes\n",
      "7         2            2         0      1   no\n",
      "8         2            0         1      1  yes\n",
      "9         1            2         1      1  yes\n",
      "10        2            2         1      0  yes\n",
      "11        0            2         0      0  yes\n",
      "12        0            1         1      1  yes\n",
      "13        1            2         0      0   no\n"
     ]
    }
   ],
   "source": [
    "# encode temp and play columns.\n",
    "# Converting string labels into numbers\n",
    "\n",
    "# Import LabelEncoder\n",
    "from sklearn import preprocessing\n",
    "\n",
    "#creating labelEncoder\n",
    "number = preprocessing.LabelEncoder()\n",
    "\n",
    "play_tennis['outlook'] = number.fit_transform(play_tennis['outlook'])\n",
    "play_tennis['temperature'] = number.fit_transform(play_tennis['temperature'])\n",
    "play_tennis['humidity'] = number.fit_transform(play_tennis['humidity'])\n",
    "play_tennis['windy'] = number.fit_transform(play_tennis['windy'])\n",
    "#play_tennis['play'] = number.fit_transform(play_tennis['play'])\n",
    "\n",
    "print(play_tennis)"
   ]
  },
  {
   "cell_type": "code",
   "execution_count": 7,
   "id": "d8ca8914-cb9a-4dbe-bb1a-bf1a56ff5939",
   "metadata": {},
   "outputs": [],
   "source": [
    "#Import Library of Naive Bayes\n",
    "from sklearn.naive_bayes import GaussianNB, BernoulliNB, MultinomialNB, CategoricalNB\n",
    "\n",
    "Gaussian_NB = GaussianNB()\n",
    "Bernoulli_NB = BernoulliNB()\n",
    "Multinomial_NB = MultinomialNB()\n",
    "Categorical_NB = CategoricalNB()"
   ]
  },
  {
   "cell_type": "code",
   "execution_count": 11,
   "id": "4031933a-b91f-4605-951c-54bd82dc12c1",
   "metadata": {},
   "outputs": [
    {
     "name": "stdout",
     "output_type": "stream",
     "text": [
      "9 5 9 5\n"
     ]
    }
   ],
   "source": [
    "# Import train_test_split function\n",
    "\n",
    "from sklearn.model_selection import train_test_split\n",
    "\n",
    "X = play_tennis[['outlook','temperature', 'humidity','windy']]\n",
    "Y = play_tennis['play']\n",
    "\n",
    "# 70% training and 30% test\n",
    "# แบ่งข้อมูลที่ใช้สำหรับการสอน training set 70% \n",
    "# ข้อมูลที่ใช้สำหรับการทดสอบ test set 30%\n",
    "# random_stat คือ ค่า seed ที่กำหนดการ random กลุ่มข้อมูล เป็นเลขจำนวนเต็ม \n",
    "# เช่น random_state = 5 หมายถึงกำหนดเลขสุมขึ้นมาเพื่อให้ข้อมูล training และ test set มีสมาชิกตัวเดิม\n",
    "\n",
    "X_train, X_test, y_train, y_test = train_test_split(X,Y,test_size=0.3,random_state=5)\n",
    "\n",
    "print(len(X_train),len(X_test),len(y_train),len(y_test))\n",
    "#print(X_train, X_test, y_train, y_test)"
   ]
  },
  {
   "cell_type": "code",
   "execution_count": 12,
   "id": "db17a674-d185-4e62-aca7-6eb941e20747",
   "metadata": {},
   "outputs": [
    {
     "name": "stdout",
     "output_type": "stream",
     "text": [
      "Bernoulli Traing Score 0.8888888888888888\n",
      "Bernoulli Test Score 0.6\n",
      "Multinomial_NB Traing Score 0.7777777777777778\n",
      "Multinomial_NB Test Score 0.4\n"
     ]
    }
   ],
   "source": [
    "#Train the model using the training sets\n",
    "Gaussian_NB.fit(X_train,y_train)\n",
    "Bernoulli_NB.fit(X_train,y_train)\n",
    "Multinomial_NB.fit(X_train,y_train)\n",
    "Categorical_NB.fit(X_train,y_train)\n",
    "\n",
    "\n",
    "#Predict the response for test dataset\n",
    "Y_Predict_GNB = Gaussian_NB.predict(X_test)\n",
    "Y_Predict_BNB = Bernoulli_NB.predict(X_test)\n",
    "Y_Predict_MNB = Multinomial_NB.predict(X_test)\n",
    "Y_Predict_CNB = Categorical_NB.predict(X_test)\n",
    "\n",
    "print(\"Bernoulli Traing Score\", Bernoulli_NB.score(X_train,y_train))\n",
    "print(\"Bernoulli Test Score\", Bernoulli_NB.score(X_test,y_test))\n",
    "\n",
    "print(\"Multinomial_NB Traing Score\", Multinomial_NB.score(X_train,y_train))\n",
    "print(\"Multinomial_NB Test Score\", Multinomial_NB.score(X_test,y_test))"
   ]
  },
  {
   "cell_type": "code",
   "execution_count": 13,
   "id": "86fbf874-db18-432e-be48-5f46403d170d",
   "metadata": {},
   "outputs": [
    {
     "name": "stdout",
     "output_type": "stream",
     "text": [
      "Gaussian Accuracy: 0.6\n",
      "Bernoulli Accuracy: 0.6\n",
      "Multinomial Accuracy: 0.4\n",
      "Categorical Accuracy: 0.6\n"
     ]
    }
   ],
   "source": [
    "#Evaluating Model\n",
    "\n",
    "from sklearn import metrics\n",
    "\n",
    "# Model Accuracy, how often is the classifier correct?\n",
    "print(\"Gaussian Accuracy:\",metrics.accuracy_score(y_test, Y_Predict_GNB))\n",
    "print(\"Bernoulli Accuracy:\",metrics.accuracy_score(y_test, Y_Predict_BNB))\n",
    "print(\"Multinomial Accuracy:\",metrics.accuracy_score(y_test, Y_Predict_MNB))\n",
    "print(\"Categorical Accuracy:\",metrics.accuracy_score(y_test,Y_Predict_CNB))"
   ]
  },
  {
   "cell_type": "code",
   "execution_count": 14,
   "id": "4aa718ab-d893-41ce-8cb4-45898d576246",
   "metadata": {},
   "outputs": [
    {
     "name": "stdout",
     "output_type": "stream",
     "text": [
      "KNN Accuracy: 0.4\n"
     ]
    }
   ],
   "source": [
    "#Import Library of K-Nearest Neighbor model\n",
    "from sklearn.neighbors import KNeighborsClassifier\n",
    "\n",
    "#Create a KNN Classifier\n",
    "KNN_model = KNeighborsClassifier(n_neighbors=3)\n",
    "KNN_model.fit(X_train,y_train)\n",
    "\n",
    "Y_Predict_KNN = KNN_model.predict(X_test)\n",
    "print(\"KNN Accuracy:\",metrics.accuracy_score(y_test, Y_Predict_KNN))"
   ]
  },
  {
   "cell_type": "code",
   "execution_count": 15,
   "id": "5b662f67-5ab8-404a-bcd0-ed833ff7c305",
   "metadata": {},
   "outputs": [
    {
     "name": "stdout",
     "output_type": "stream",
     "text": [
      "Predicted Value: ['yes' 'yes']\n"
     ]
    },
    {
     "name": "stderr",
     "output_type": "stream",
     "text": [
      "C:\\Users\\Guest-Student\\anaconda3\\Lib\\site-packages\\sklearn\\base.py:493: UserWarning: X does not have valid feature names, but BernoulliNB was fitted with feature names\n",
      "  warnings.warn(\n"
     ]
    }
   ],
   "source": [
    "#Predict new data ใช้ Bernoulli NB\n",
    "\n",
    "predicted= Bernoulli_NB.predict([[1,1,0,1],[2,2,1,0] ]) # 1:rain, 1:hot, 0:high, 1:weak\n",
    "print(\"Predicted Value:\", predicted)"
   ]
  },
  {
   "cell_type": "code",
   "execution_count": 16,
   "id": "7c3ddd45-b2ea-473b-8b53-a6ad6d07be09",
   "metadata": {},
   "outputs": [
    {
     "name": "stdout",
     "output_type": "stream",
     "text": [
      "Predicted Value: ['yes' 'no' 'yes']\n"
     ]
    },
    {
     "name": "stderr",
     "output_type": "stream",
     "text": [
      "C:\\Users\\Guest-Student\\anaconda3\\Lib\\site-packages\\sklearn\\base.py:493: UserWarning: X does not have valid feature names, but BernoulliNB was fitted with feature names\n",
      "  warnings.warn(\n"
     ]
    }
   ],
   "source": [
    "#Predict new data ใช้ Bernoulli NB\n",
    "\n",
    "predicted= Bernoulli_NB.predict([[0,0,0,1],[1,1,0,0],[2,2,0,1] ]) # 1:rain, 1:hot, 0:high, 1:weak\n",
    "print(\"Predicted Value:\", predicted)"
   ]
  },
  {
   "cell_type": "code",
   "execution_count": null,
   "id": "e71dc95c-b6b6-4a7b-b06f-7e0409518dc0",
   "metadata": {},
   "outputs": [],
   "source": []
  }
 ],
 "metadata": {
  "kernelspec": {
   "display_name": "Python 3 (ipykernel)",
   "language": "python",
   "name": "python3"
  },
  "language_info": {
   "codemirror_mode": {
    "name": "ipython",
    "version": 3
   },
   "file_extension": ".py",
   "mimetype": "text/x-python",
   "name": "python",
   "nbconvert_exporter": "python",
   "pygments_lexer": "ipython3",
   "version": "3.11.7"
  }
 },
 "nbformat": 4,
 "nbformat_minor": 5
}
