{
 "cells": [
  {
   "cell_type": "markdown",
   "id": "61332886-b690-423e-ada8-eceefbb074b8",
   "metadata": {},
   "source": [
    "# 660710075 ชลธี เกิดก่อวงศ์"
   ]
  },
  {
   "cell_type": "code",
   "execution_count": 47,
   "id": "19b1c92e-9026-44e8-a397-abf833d64c1c",
   "metadata": {},
   "outputs": [
    {
     "name": "stdout",
     "output_type": "stream",
     "text": [
      "['Database', 'Data Mining', 'Machine Learning', 'Calculus', 'Linear Algebra']\n"
     ]
    }
   ],
   "source": [
    "Subject = [\"Database\",\"Data Mining\", \"Machine Learning\", \"Calculus\", \"Linear Algebra\"]\n",
    "print(Subject)"
   ]
  },
  {
   "cell_type": "code",
   "execution_count": 48,
   "id": "7f9a4522-7e02-44bc-a9e0-a04f2b96cb1d",
   "metadata": {},
   "outputs": [
    {
     "name": "stdout",
     "output_type": "stream",
     "text": [
      "5\n"
     ]
    }
   ],
   "source": [
    "print(len(Subject))"
   ]
  },
  {
   "cell_type": "code",
   "execution_count": 49,
   "id": "32068b85-778c-450f-b4cf-0179c4ea78b2",
   "metadata": {},
   "outputs": [
    {
     "name": "stdout",
     "output_type": "stream",
     "text": [
      "['Database', 'Data Mining', 'Machine Learning', 'Calculus', 'Linear Algebra', 'Deep Learning']\n"
     ]
    }
   ],
   "source": [
    "Subject = Subject + [\"Deep Learning\"]\n",
    "print(Subject)"
   ]
  },
  {
   "cell_type": "code",
   "execution_count": 50,
   "id": "3848bc92-8d9f-43fa-aec2-9f2ddae66ae8",
   "metadata": {},
   "outputs": [
    {
     "name": "stdout",
     "output_type": "stream",
     "text": [
      "Machine Learning Database\n"
     ]
    }
   ],
   "source": [
    "print(Subject[2], Subject[0])"
   ]
  },
  {
   "cell_type": "code",
   "execution_count": 37,
   "id": "473433ca-6160-4a20-95ab-8f5ae7e51e85",
   "metadata": {},
   "outputs": [],
   "source": [
    "my_tuple = (\"Orange\", \"Apple\", \"Grape\", \"Melon\")"
   ]
  },
  {
   "cell_type": "code",
   "execution_count": 38,
   "id": "d55db48d-b43b-43c3-b9b3-42b51a839ffc",
   "metadata": {},
   "outputs": [],
   "source": [
    "my_tuple = my_tuple + (\"Cherry\",)"
   ]
  },
  {
   "cell_type": "raw",
   "id": "ff42b64c-da99-4dbe-bb07-320b344bca6e",
   "metadata": {},
   "source": [
    "info = {'name':'Loid', 'family name':'Forger','year':'1964'}"
   ]
  },
  {
   "cell_type": "code",
   "execution_count": 4,
   "id": "68168016-71cf-4421-a611-7f36496e0e67",
   "metadata": {},
   "outputs": [
    {
     "name": "stdout",
     "output_type": "stream",
     "text": [
      "name Loid\n",
      "family name Forger\n",
      "year 1964\n"
     ]
    }
   ],
   "source": [
    "info = {'name':'Loid', 'family name':'Forger','year':'1964'}\n",
    "for i,j in info.items():\n",
    "    print(i,j)"
   ]
  },
  {
   "cell_type": "code",
   "execution_count": 11,
   "id": "37100f2f-d89b-4947-bda3-ee863a059f92",
   "metadata": {},
   "outputs": [],
   "source": [
    "info = {'name':'Loid', 'family name':'Forger','year':'1964'}\n",
    "info['name'] = 'Anya'\n",
    "info['year'] = '2016'"
   ]
  }
 ],
 "metadata": {
  "kernelspec": {
   "display_name": "Python 3 (ipykernel)",
   "language": "python",
   "name": "python3"
  },
  "language_info": {
   "codemirror_mode": {
    "name": "ipython",
    "version": 3
   },
   "file_extension": ".py",
   "mimetype": "text/x-python",
   "name": "python",
   "nbconvert_exporter": "python",
   "pygments_lexer": "ipython3",
   "version": "3.11.7"
  }
 },
 "nbformat": 4,
 "nbformat_minor": 5
}
